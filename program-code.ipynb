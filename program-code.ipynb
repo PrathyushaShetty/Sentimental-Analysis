{
 "cells": [
  {
   "cell_type": "code",
   "execution_count": 18,
   "id": "2b8ad552-5eca-41ea-a063-78c5dc9da3b6",
   "metadata": {},
   "outputs": [
    {
     "name": "stdout",
     "output_type": "stream",
     "text": [
      "Model Accuracy: 87.22%\n",
      "The predicted sentiment for the statement is: Negative\n"
     ]
    }
   ],
   "source": [
    "import pandas as pd\n",
    "from sklearn.ensemble import RandomForestClassifier\n",
    "from sklearn.feature_extraction.text import TfidfVectorizer\n",
    "from sklearn.preprocessing import LabelEncoder\n",
    "from sklearn.model_selection import train_test_split\n",
    "from sklearn.metrics import accuracy_score\n",
    "import re\n",
    "import nltk\n",
    "from nltk.corpus import stopwords\n",
    "from nltk.tokenize import word_tokenize\n",
    "from nltk.stem import WordNetLemmatizer\n",
    "\n",
    "# Function to preprocess text\n",
    "def preprocess_text(text):\n",
    "    if not isinstance(text, str):\n",
    "        return \"\"  # Return empty string for non-string values (e.g., floats or NaNs)\n",
    "    \n",
    "    # Remove special characters and numbers\n",
    "    text = re.sub(r'[^A-Za-z\\s]', '', text)\n",
    "    # Convert text to lowercase\n",
    "    text = text.lower()\n",
    "    # Tokenize the text\n",
    "    tokens = word_tokenize(text)\n",
    "    # Remove stopwords and lemmatize the text\n",
    "    lemmatizer = WordNetLemmatizer()\n",
    "    tokens = [lemmatizer.lemmatize(token) for token in tokens if token not in stopwords.words('english')]\n",
    "    return ' '.join(tokens)\n",
    "\n",
    "# Load the data\n",
    "file_path = r'C:\\Users\\asshe\\Desktop\\Sentiment analysis\\twitter_training.csv'\n",
    "df = pd.read_csv(file_path, header=None)\n",
    "\n",
    "# Rename columns appropriately (you may need to adjust these names based on your dataset)\n",
    "df.columns = ['ID', 'Game', 'Sentiment', 'Text']\n",
    "\n",
    "# Apply preprocessing to the 'Text' column, handling floats\n",
    "df['Cleaned_Text'] = df['Text'].apply(preprocess_text)\n",
    "\n",
    "# Encode the sentiment labels\n",
    "le = LabelEncoder()\n",
    "df['Encoded_Sentiment'] = le.fit_transform(df['Sentiment'])\n",
    "\n",
    "# Vectorize the cleaned text using TF-IDF\n",
    "tfidf = TfidfVectorizer(max_features=5000)\n",
    "X = tfidf.fit_transform(df['Cleaned_Text'])\n",
    "\n",
    "# Split the data into training and testing sets\n",
    "X_train, X_test, y_train, y_test = train_test_split(X, df['Encoded_Sentiment'], test_size=0.2, random_state=42)\n",
    "\n",
    "# Train a RandomForestClassifier\n",
    "rf = RandomForestClassifier(n_estimators=100, random_state=42)\n",
    "rf.fit(X_train, y_train)\n",
    "\n",
    "# Evaluate the model\n",
    "y_pred = rf.predict(X_test)\n",
    "accuracy = accuracy_score(y_test, y_pred)\n",
    "print(f\"Model Accuracy: {accuracy * 100:.2f}%\")\n",
    "\n",
    "# Function to predict sentiment for new statements\n",
    "def predict_sentiment(new_statement):\n",
    "    cleaned_statement = preprocess_text(new_statement)\n",
    "    transformed_statement = tfidf.transform([cleaned_statement])\n",
    "    prediction = rf.predict(transformed_statement)\n",
    "    return le.inverse_transform(prediction)[0]\n",
    "\n",
    "# Example usage\n",
    "new_statement = \"I hate this product!\"\n",
    "predicted_sentiment = predict_sentiment(new_statement)\n",
    "print(f\"The predicted sentiment for the statement is: {predicted_sentiment}\")\n"
   ]
  },
  {
   "cell_type": "code",
   "execution_count": null,
   "id": "81f3b3c4-ed00-4195-ae0d-c3746c855260",
   "metadata": {},
   "outputs": [],
   "source": []
  }
 ],
 "metadata": {
  "kernelspec": {
   "display_name": "Python 3 (ipykernel)",
   "language": "python",
   "name": "python3"
  },
  "language_info": {
   "codemirror_mode": {
    "name": "ipython",
    "version": 3
   },
   "file_extension": ".py",
   "mimetype": "text/x-python",
   "name": "python",
   "nbconvert_exporter": "python",
   "pygments_lexer": "ipython3",
   "version": "3.11.0"
  }
 },
 "nbformat": 4,
 "nbformat_minor": 5
}
