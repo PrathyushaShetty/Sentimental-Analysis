{
 "cells": [
  {
   "cell_type": "code",
   "execution_count": 6,
   "id": "11f27fc9-2833-43dd-a19c-e55968d895bd",
   "metadata": {},
   "outputs": [
    {
     "name": "stderr",
     "output_type": "stream",
     "text": [
      "[nltk_data] Downloading package punkt to\n",
      "[nltk_data]     C:\\Users\\asshe\\AppData\\Roaming\\nltk_data...\n",
      "[nltk_data]   Package punkt is already up-to-date!\n",
      "[nltk_data] Downloading package stopwords to\n",
      "[nltk_data]     C:\\Users\\asshe\\AppData\\Roaming\\nltk_data...\n",
      "[nltk_data]   Unzipping corpora\\stopwords.zip.\n",
      "[nltk_data] Downloading package wordnet to\n",
      "[nltk_data]     C:\\Users\\asshe\\AppData\\Roaming\\nltk_data...\n",
      "[nltk_data]   Package wordnet is already up-to-date!\n"
     ]
    },
    {
     "name": "stdout",
     "output_type": "stream",
     "text": [
      "Class distribution:\n",
      "Sentiment\n",
      "Negative      22358\n",
      "Positive      20655\n",
      "Neutral       18108\n",
      "Irrelevant    12875\n",
      "Name: count, dtype: int64\n",
      "\n",
      "Model Accuracy: 87.64%\n",
      "Classification Report:\n",
      "               precision    recall  f1-score   support\n",
      "\n",
      "  Irrelevant       0.93      0.80      0.86      2696\n",
      "    Negative       0.89      0.91      0.90      4380\n",
      "     Neutral       0.82      0.88      0.85      3605\n",
      "    Positive       0.88      0.89      0.88      4119\n",
      "\n",
      "    accuracy                           0.88     14800\n",
      "   macro avg       0.88      0.87      0.87     14800\n",
      "weighted avg       0.88      0.88      0.88     14800\n",
      "\n",
      "\n",
      "Testing sample statements:\n",
      "'I hate this product!': Negative\n",
      "'product is not good': Negative\n",
      "'this is amazing': Positive\n",
      "'not bad at all': Negative\n",
      "'worst experience ever': Negative\n"
     ]
    },
    {
     "name": "stdin",
     "output_type": "stream",
     "text": [
      "\n",
      "Enter a statement to analyze (or 'quit' to exit):  it is not good product\n"
     ]
    },
    {
     "name": "stdout",
     "output_type": "stream",
     "text": [
      "Predicted Sentiment: Negative\n"
     ]
    },
    {
     "name": "stdin",
     "output_type": "stream",
     "text": [
      "\n",
      "Enter a statement to analyze (or 'quit' to exit):  it is not as it looks like \n"
     ]
    },
    {
     "name": "stdout",
     "output_type": "stream",
     "text": [
      "Predicted Sentiment: Negative\n"
     ]
    },
    {
     "name": "stdin",
     "output_type": "stream",
     "text": [
      "\n",
      "Enter a statement to analyze (or 'quit' to exit):  good product\n"
     ]
    },
    {
     "name": "stdout",
     "output_type": "stream",
     "text": [
      "Predicted Sentiment: Positive\n"
     ]
    },
    {
     "name": "stdin",
     "output_type": "stream",
     "text": [
      "\n",
      "Enter a statement to analyze (or 'quit' to exit):  quit\n"
     ]
    }
   ],
   "source": [
    "import pandas as pd\n",
    "from sklearn.ensemble import RandomForestClassifier\n",
    "from sklearn.feature_extraction.text import TfidfVectorizer\n",
    "from sklearn.preprocessing import LabelEncoder\n",
    "from sklearn.model_selection import train_test_split\n",
    "from sklearn.metrics import accuracy_score, classification_report\n",
    "import re\n",
    "import nltk\n",
    "from nltk.corpus import stopwords\n",
    "from nltk.tokenize import word_tokenize\n",
    "from nltk.stem import WordNetLemmatizer\n",
    "\n",
    "# Download NLTK data\n",
    "nltk.download('punkt')\n",
    "nltk.download('stopwords')\n",
    "nltk.download('wordnet')\n",
    "\n",
    "# Improved preprocessing\n",
    "def preprocess_text(text):\n",
    "    if not isinstance(text, str):\n",
    "        return \"\"\n",
    "    \n",
    "    # Keep negation words by modifying stopwords list\n",
    "    custom_stopwords = set(stopwords.words('english')) - {'not', 'no', 'nor', 'neither'}\n",
    "    \n",
    "    text = re.sub(r'[^A-Za-z\\s]', '', text)\n",
    "    text = text.lower()\n",
    "    tokens = word_tokenize(text)\n",
    "    lemmatizer = WordNetLemmatizer()\n",
    "    tokens = [lemmatizer.lemmatize(token) for token in tokens if token not in custom_stopwords]\n",
    "    return ' '.join(tokens)\n",
    "\n",
    "# Load data\n",
    "file_path = r'twitter_training.csv'\n",
    "df = pd.read_csv(file_path, header=None)\n",
    "df.columns = ['ID', 'Game', 'Sentiment', 'Text']\n",
    "\n",
    "# Drop rows with missing values\n",
    "df = df.dropna(subset=['Text', 'Sentiment'])\n",
    "\n",
    "# Preprocess\n",
    "df['Cleaned_Text'] = df['Text'].apply(preprocess_text)\n",
    "\n",
    "# Encode labels\n",
    "le = LabelEncoder()\n",
    "df['Encoded_Sentiment'] = le.fit_transform(df['Sentiment'])\n",
    "\n",
    "# Check class distribution\n",
    "print(\"Class distribution:\")\n",
    "print(df['Sentiment'].value_counts())\n",
    "\n",
    "# Use n-grams in TF-IDF\n",
    "tfidf = TfidfVectorizer(max_features=10000, ngram_range=(1, 2))\n",
    "X = tfidf.fit_transform(df['Cleaned_Text'])\n",
    "\n",
    "# Split data\n",
    "X_train, X_test, y_train, y_test = train_test_split(X, df['Encoded_Sentiment'], test_size=0.2, random_state=42)\n",
    "\n",
    "# Train model with class weights\n",
    "class_weights = 'balanced'  # Automatically adjusts weights inversely proportional to class frequencies\n",
    "rf = RandomForestClassifier(n_estimators=100, random_state=42, class_weight=class_weights)\n",
    "rf.fit(X_train, y_train)\n",
    "\n",
    "# Evaluate\n",
    "y_pred = rf.predict(X_test)\n",
    "accuracy = accuracy_score(y_test, y_pred)\n",
    "print(f\"\\nModel Accuracy: {accuracy * 100:.2f}%\")\n",
    "print(\"Classification Report:\\n\", classification_report(y_test, y_pred, target_names=le.classes_))\n",
    "\n",
    "# Prediction function\n",
    "def predict_sentiment(new_statement):\n",
    "    cleaned_statement = preprocess_text(new_statement)\n",
    "    transformed_statement = tfidf.transform([cleaned_statement])\n",
    "    prediction = rf.predict(transformed_statement)\n",
    "    return le.inverse_transform(prediction)[0]\n",
    "\n",
    "# Test cases\n",
    "test_cases = [\n",
    "    \"I hate this product!\",\n",
    "    \"product is not good\",\n",
    "    \"this is amazing\",\n",
    "    \"not bad at all\",\n",
    "    \"worst experience ever\"\n",
    "]\n",
    "\n",
    "print(\"\\nTesting sample statements:\")\n",
    "for statement in test_cases:\n",
    "    sentiment = predict_sentiment(statement)\n",
    "    print(f\"'{statement}': {sentiment}\")\n",
    "\n",
    "# User interaction\n",
    "while True:\n",
    "    user_input = input(\"\\nEnter a statement to analyze (or 'quit' to exit): \")\n",
    "    if user_input.lower() == 'quit':\n",
    "        break\n",
    "    predicted_sentiment = predict_sentiment(user_input)\n",
    "    print(f\"Predicted Sentiment: {predicted_sentiment}\")"
   ]
  },
  {
   "cell_type": "code",
   "execution_count": null,
   "id": "ce150e2d-f4e5-44cd-9149-37ef51f1b06a",
   "metadata": {},
   "outputs": [],
   "source": []
  }
 ],
 "metadata": {
  "kernelspec": {
   "display_name": "Python 3 (ipykernel)",
   "language": "python",
   "name": "python3"
  },
  "language_info": {
   "codemirror_mode": {
    "name": "ipython",
    "version": 3
   },
   "file_extension": ".py",
   "mimetype": "text/x-python",
   "name": "python",
   "nbconvert_exporter": "python",
   "pygments_lexer": "ipython3",
   "version": "3.11.0"
  }
 },
 "nbformat": 4,
 "nbformat_minor": 5
}
