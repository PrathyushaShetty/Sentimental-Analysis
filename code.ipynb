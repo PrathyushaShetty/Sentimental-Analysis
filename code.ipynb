{
 "cells": [
  {
   "cell_type": "code",
   "execution_count": 6,
   "id": "69016a3a-a39f-4d6f-919a-0e757f274c2c",
   "metadata": {},
   "outputs": [
    {
     "name": "stderr",
     "output_type": "stream",
     "text": [
      "[nltk_data] Downloading package punkt to\n",
      "[nltk_data]     C:\\Users\\asshe\\AppData\\Roaming\\nltk_data...\n",
      "[nltk_data]   Package punkt is already up-to-date!\n",
      "[nltk_data] Downloading package punkt_tab to\n",
      "[nltk_data]     C:\\Users\\asshe\\AppData\\Roaming\\nltk_data...\n",
      "[nltk_data]   Unzipping tokenizers\\punkt_tab.zip.\n"
     ]
    },
    {
     "data": {
      "text/plain": [
       "True"
      ]
     },
     "execution_count": 6,
     "metadata": {},
     "output_type": "execute_result"
    }
   ],
   "source": [
    "import nltk\n",
    "\n",
    "# Download the punkt tokenizer models\n",
    "nltk.download('punkt')\n",
    "import nltk\n",
    "nltk.download('punkt_tab')"
   ]
  },
  {
   "cell_type": "code",
   "execution_count": 1,
   "id": "fbb3f283-d0b7-46b9-9c85-17aba1e46352",
   "metadata": {},
   "outputs": [],
   "source": [
    "import nltk\n",
    "from nltk.tokenize import word_tokenize\n",
    "from nltk.corpus import stopwords\n",
    "from nltk.stem import WordNetLemmatizer\n",
    "import pandas as pd\n",
    "from sklearn.preprocessing import LabelEncoder\n",
    "from sklearn.feature_extraction.text import TfidfVectorizer\n",
    "from sklearn.model_selection import train_test_split\n",
    "from sklearn.linear_model import LogisticRegression\n",
    "from sklearn.ensemble import RandomForestClassifier\n",
    "from sklearn.metrics import classification_report, accuracy_score\n",
    "import pickle\n",
    "import re\n",
    "\n",
    "\n"
   ]
  },
  {
   "cell_type": "code",
   "execution_count": null,
   "id": "be2f624e-d077-4113-8368-7853948a4949",
   "metadata": {},
   "outputs": [
    {
     "name": "stdout",
     "output_type": "stream",
     "text": [
      "     ID         Game Sentiment  \\\n",
      "0  2401  Borderlands  Positive   \n",
      "1  2401  Borderlands  Positive   \n",
      "2  2401  Borderlands  Positive   \n",
      "3  2401  Borderlands  Positive   \n",
      "4  2401  Borderlands  Positive   \n",
      "\n",
      "                                                Text  \n",
      "0  im getting on borderlands and i will murder yo...  \n",
      "1  I am coming to the borders and I will kill you...  \n",
      "2  im getting on borderlands and i will kill you ...  \n",
      "3  im coming on borderlands and i will murder you...  \n",
      "4  im getting on borderlands 2 and i will murder ...  \n"
     ]
    },
    {
     "name": "stderr",
     "output_type": "stream",
     "text": [
      "C:\\Python\\Lib\\site-packages\\sklearn\\linear_model\\_logistic.py:469: ConvergenceWarning: lbfgs failed to converge (status=1):\n",
      "STOP: TOTAL NO. of ITERATIONS REACHED LIMIT.\n",
      "\n",
      "Increase the number of iterations (max_iter) or scale the data as shown in:\n",
      "    https://scikit-learn.org/stable/modules/preprocessing.html\n",
      "Please also refer to the documentation for alternative solver options:\n",
      "    https://scikit-learn.org/stable/modules/linear_model.html#logistic-regression\n",
      "  n_iter_i = _check_optimize_result(\n"
     ]
    },
    {
     "name": "stdout",
     "output_type": "stream",
     "text": [
      "Accuracy: 0.8189730200174065\n",
      "Classification Report:\n",
      "               precision    recall  f1-score   support\n",
      "\n",
      "  Irrelevant       0.84      0.74      0.79      2592\n",
      "    Negative       0.85      0.86      0.85      4519\n",
      "     Neutral       0.84      0.78      0.81      3596\n",
      "    Positive       0.76      0.86      0.81      4230\n",
      "\n",
      "    accuracy                           0.82     14937\n",
      "   macro avg       0.82      0.81      0.81     14937\n",
      "weighted avg       0.82      0.82      0.82     14937\n",
      "\n"
     ]
    }
   ],
   "source": [
    "import pandas as pd\n",
    "from sklearn.model_selection import train_test_split\n",
    "from sklearn.feature_extraction.text import CountVectorizer\n",
    "from sklearn.linear_model import LogisticRegression\n",
    "from sklearn.metrics import accuracy_score, classification_report\n",
    "\n",
    "# Define the column names based on the structure observed\n",
    "column_names = ['ID', 'Game', 'Sentiment', 'Text']\n",
    "\n",
    "# Load the dataset with correct column names and delimiters\n",
    "df = pd.read_csv(r'twitter_training.csv', delimiter=',', names=column_names, quotechar='\"')\n",
    "\n",
    "# Display the first few rows to confirm the correct structure\n",
    "print(df.head())\n",
    "\n",
    "# Handle NaN values in the 'Text' column by filling them with an empty string\n",
    "df['Text'] = df['Text'].fillna('')\n",
    "\n",
    "# Preprocess the data\n",
    "# Convert text to lowercase (you can add more preprocessing steps as needed)\n",
    "df['Text'] = df['Text'].str.lower()\n",
    "\n",
    "# Split the data into training and testing sets\n",
    "X_train, X_test, y_train, y_test = train_test_split(df['Text'], df['Sentiment'], test_size=0.2, random_state=42)\n",
    "\n",
    "# Vectorize the text data\n",
    "vectorizer = CountVectorizer()\n",
    "X_train_vect = vectorizer.fit_transform(X_train)\n",
    "X_test_vect = vectorizer.transform(X_test)\n",
    "\n",
    "# Train a logistic regression model\n",
    "model = LogisticRegression()\n",
    "model.fit(X_train_vect, y_train)\n",
    "\n",
    "# Predict on the test set\n",
    "y_pred = model.predict(X_test_vect)\n",
    "\n",
    "# Evaluate the model\n",
    "print(\"Accuracy:\", accuracy_score(y_test, y_pred))\n",
    "print(\"Classification Report:\\n\", classification_report(y_test, y_pred))\n",
    "\n",
    "# Predict the sentiment of a new statement\n",
    "def predict_sentiment(new_statement):\n",
    "    new_statement_vect = vectorizer.transform([new_statement])\n",
    "    prediction = model.predict(new_statement_vect)\n",
    "    return prediction[0]\n",
    "\n",
    "# Map sentiment to emoji\n",
    "def sentiment_to_emoji(sentiment):\n",
    "    if sentiment == 'Positive':\n",
    "        return '😊'\n",
    "    elif sentiment == 'Negative':\n",
    "        return '😐'\n",
    "    else:\n",
    "        return '😐'  # Default to neutral emoji for unknown sentiment\n",
    "\n",
    "# Get user input\n",
    "user_input = input(\"Enter a statement to analyze its sentiment: \")\n",
    "\n",
    "# Predict the sentiment of the user's input\n",
    "predicted_sentiment = predict_sentiment(user_input)\n",
    "predicted_emoji = sentiment_to_emoji(predicted_sentiment)\n",
    "\n",
    "print(\"Predicted Sentiment for '{}' : {} {}\".format(user_input, predicted_sentiment, predicted_emoji))"
   ]
  },
  {
   "cell_type": "code",
   "execution_count": null,
   "id": "96216dee-d16c-4eb3-a71a-afdf10b73aed",
   "metadata": {},
   "outputs": [],
   "source": []
  }
 ],
 "metadata": {
  "kernelspec": {
   "display_name": "Python 3 (ipykernel)",
   "language": "python",
   "name": "python3"
  },
  "language_info": {
   "codemirror_mode": {
    "name": "ipython",
    "version": 3
   },
   "file_extension": ".py",
   "mimetype": "text/x-python",
   "name": "python",
   "nbconvert_exporter": "python",
   "pygments_lexer": "ipython3",
   "version": "3.11.0"
  }
 },
 "nbformat": 4,
 "nbformat_minor": 5
}
